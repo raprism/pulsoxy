{
 "cells": [
  {
   "cell_type": "code",
   "execution_count": 1,
   "metadata": {
    "collapsed": true,
    "hideCode": true,
    "hideOutput": true,
    "hidePrompt": true,
    "slideshow": {
     "slide_type": "skip"
    }
   },
   "outputs": [],
   "source": [
    "import os\n",
    "from traitlets.config.manager import BaseJSONConfigManager\n",
    "path = os.path.join(os.environ['HOME'], '.jupyter', 'nbconfig')\n",
    "cm = BaseJSONConfigManager(config_dir=path)\n",
    "_ = cm.update('livereveal', \n",
    "              {'width': 1024,\n",
    "               'height': 768,\n",
    "               #'width': 1000,\n",
    "               #'height': 1200,\n",
    "               'theme': 'white',\n",
    "               'transition': 'linear',\n",
    "               'display': 'block',\n",
    "               'fragments': 'true',\n",
    "               'minScale': 1.2,\n",
    "               })"
   ]
  },
  {
   "cell_type": "code",
   "execution_count": 2,
   "metadata": {
    "collapsed": true,
    "hideCode": true,
    "hideOutput": true,
    "hidePrompt": true,
    "hide_input": true,
    "slideshow": {
     "slide_type": "skip"
    }
   },
   "outputs": [],
   "source": [
    "###### general and notebook related imports and settings\n",
    "import numpy as np\n",
    "from IPython.display import Markdown, HTML, display\n",
    "# no warnings\n",
    "import warnings\n",
    "warnings.filterwarnings(\"ignore\")\n",
    "# markdown to html\n",
    "from mistune import markdown\n",
    "\n",
    "do_demo = False\n",
    "\n",
    "if do_demo:\n",
    "    # IPython display and widgets\n",
    "    from IPython.display import HTML, Markdown\n",
    "    from IPython.display import clear_output, display\n",
    "    from ipywidgets import fixed, interact_manual\n",
    "    # plotly with pandas support\n",
    "    import plotly\n",
    "    import plotly.graph_objs as ply_go\n",
    "    import cufflinks as cf\n",
    "    plotly.offline.init_notebook_mode(connected=True)\n",
    "    # custom plotly extension\n",
    "    # based on https://github.com/hyliu1989/PlotlyOfflineStream\n",
    "    from plotlyStream import JupyterNotebookPlotlyStream\n",
    "\n",
    "    ###### application related imports\n",
    "    import asyncio\n",
    "    from collections import OrderedDict\n",
    "    # local\n",
    "    import oxy\n",
    "    import mqtt\n",
    "    from mqtt import run_subscription, loggera"
   ]
  },
  {
   "cell_type": "code",
   "execution_count": 3,
   "metadata": {
    "collapsed": true,
    "hideCode": true,
    "hideOutput": true,
    "hidePrompt": true,
    "hide_input": true,
    "slideshow": {
     "slide_type": "skip"
    }
   },
   "outputs": [],
   "source": [
    "###### setup async process\n",
    "###### see also http://ipywidgets.readthedocs.io/en/latest/examples/Widget%20Asynchronous.html \n",
    "\n",
    "from ipykernel.eventloops import register_integration\n",
    "\n",
    "@register_integration('asyncio')\n",
    "def loop_asyncio(kernel):\n",
    "    '''Start a kernel with asyncio event loop support.'''\n",
    "    loop = asyncio.get_event_loop()\n",
    "\n",
    "    def kernel_handler():\n",
    "        loop.call_soon(kernel.do_one_iteration)\n",
    "        loop.call_later(kernel._poll_interval, kernel_handler)\n",
    "\n",
    "    loop.call_soon(kernel_handler)\n",
    "    try:\n",
    "        if not loop.is_running():\n",
    "            loop.run_forever()\n",
    "    finally:\n",
    "        loop.run_until_complete(loop.shutdown_asyncgens())\n",
    "        loop.close()"
   ]
  },
  {
   "cell_type": "code",
   "execution_count": 4,
   "metadata": {
    "collapsed": true,
    "hideCode": true,
    "hideOutput": true,
    "hidePrompt": true,
    "hide_input": true,
    "slideshow": {
     "slide_type": "skip"
    }
   },
   "outputs": [],
   "source": [
    "def get_oo_init(oo_prev=None):\n",
    "    # plotly does not work with empty data\n",
    "    oo = oxy.Oxy()\n",
    "    if oo_prev is not None:\n",
    "         oo.data = oo_prev.data.median().to_frame().T\n",
    "    return oo\n",
    "\n",
    "###### function for notebook interaction\n",
    "def fig_clear(fig):\n",
    "    # matplotlib\n",
    "    for ax in fig.axes:\n",
    "        ax.cla()\n",
    "\n",
    "def _plotly_get_fig(df, x, y, lcolors):\n",
    "    # kwargs ...\n",
    "    return df.iplot(\n",
    "        x=x, y=y, colors=lcolors,\n",
    "        kind='scatter', mode='lines+markers', \n",
    "        symbol='o', size=4,\n",
    "        asFigure=True,\n",
    "        theme='white',\n",
    "        subplots=True,\n",
    "        shape=(len(y),1),\n",
    "        shared_xaxes=True,\n",
    "        #layout=ply_layout,\n",
    "    )\n",
    "        \n",
    "def pstream_clear(pstream):\n",
    "    # plotly\n",
    "    if hasattr(pstream, '_oo'):\n",
    "        oo_prev = pstream._oo\n",
    "    else:\n",
    "        oo_prev = None\n",
    "    oo = get_oo_init(oo_prev=oo_prev)\n",
    "    #print(oo.data)\n",
    "    pstream._fig = plotly_get_fig(oo)\n",
    "    pstream._oo = oo\n",
    "    \n",
    "def pstream_do_clear():\n",
    "    pstream_clear(pstream)\n",
    "    pstream.update()\n",
    "    \n",
    "if do_demo:\n",
    "    %gui asyncio\n",
    "    loop = asyncio.get_event_loop()\n",
    "\n",
    "    #debug = True\n",
    "    debug = False\n",
    "\n",
    "    if not debug:\n",
    "        logger.propagate = False\n",
    "\n",
    "    ## loop count\n",
    "    #n = 10\n",
    "    ## ... infinite\n",
    "    n = None\n",
    "\n",
    "    leds_colors = OrderedDict(zip(['IR', 'RED'], ['#A38C89', '#C82C1C']))\n",
    "    leds = list(leds_colors.keys())\n",
    "    lcolors = list(leds_colors.values())\n",
    "\n",
    "    leds_ac = [led + '_ac' for led in leds]\n",
    "\n",
    "    oo_init = get_oo_init()\n",
    "    #oo_init.data\n",
    "    \n",
    "    def plotly_get_fig(oo, \n",
    "                   leds=leds, \n",
    "                   lcolors=lcolors):\n",
    "        df = oo.data\n",
    "        # create 2 axis layout with partial led data\n",
    "        _ply_fig = _plotly_get_fig(df, 'time_sec', \n",
    "                                   leds[:1] + leds_ac[:1],\n",
    "                                   lcolors)\n",
    "        ply_layout = _ply_fig['layout']\n",
    "        # create figure ...\n",
    "        ply_fig = _plotly_get_fig(df, 'time_sec', \n",
    "                                  leds + leds_ac,\n",
    "                                  lcolors * 2)\n",
    "        # ... and fix axes and layout\n",
    "        ply_fig['data'][1]['yaxis'] = 'y1'\n",
    "        ply_fig['data'][2]['yaxis'] = 'y2'\n",
    "        ply_fig['data'][3]['yaxis'] = 'y2'\n",
    "        ply_fig['layout'] = ply_layout\n",
    "        #ply_fig['layout'].update(ply_layout)\n",
    "        return ply_fig"
   ]
  },
  {
   "cell_type": "code",
   "execution_count": 5,
   "metadata": {
    "collapsed": true,
    "hideCode": true,
    "hideOutput": true,
    "hidePrompt": true,
    "slideshow": {
     "slide_type": "skip"
    }
   },
   "outputs": [],
   "source": [
    "if do_demo:\n",
    "\n",
    "    md1 = \"\"\"\n",
    "    ##### test\n",
    "    $I = I_0 \\exp(-\\mu_s x)$\n",
    "    \"\"\"\n",
    "    md2 = \"\"\"\n",
    "    ##### test2\n",
    "    $E = m c^2$\n",
    "    \"\"\"\n",
    "\n",
    "    import itertools\n",
    "    md_texts = itertools.cycle([md1, md2])\n",
    "\n",
    "    def get_md():\n",
    "        return md_texts.__next__()\n",
    "\n",
    "    def html_join(html, colR):\n",
    "        return col2_html(html, colR, idR='graph_table_R', flexR=0.3, modeL='html', as_raw=True)\n",
    "\n",
    "    from functools import partial\n",
    "    get_html_join = partial(html_join, colR=get_md())\n",
    "\n",
    "    ###### widgets creation\n",
    "    ## init plotly stream instance\n",
    "    pstream = JupyterNotebookPlotlyStream()\n",
    "    pstream_clear(pstream)\n",
    "    pstream.setToPlotInNewCell()\n",
    "\n",
    "    html_tmpl = \"\"\"\n",
    "    <div class=\"alert alert-block alert-warning\">\n",
    "    <right>\n",
    "    {}\n",
    "    </right>\n",
    "    </div>\n",
    "    \"\"\"\n",
    "\n",
    "    #pstream.firstRun(opt_html_table_side=html_tmpl.format(html1))\n",
    "    def pdisplay():\n",
    "        from htmldom import htmldom\n",
    "        dom = htmldom.HtmlDom()\n",
    "        dom.parseHTML( pstream._html )\n",
    "        elem = dom.find('div[id=graph_table_R]')\n",
    "        new = 'test'+elem.text()\n",
    "        elem.text(get_md())\n",
    "        pstream._html = dom.find('*').html()\n",
    "        #pstream.show()\n",
    "\n",
    "\n",
    "    #funcw = interact_manual(fig_clear, fig=fixed(fig))\n",
    "    funcw = interact_manual(pstream_do_clear)\n",
    "    funcw.widget.children[0].description = 'clear plots'\n",
    "    funcd = interact_manual(pdisplay)\n",
    "    funcd.widget.children[0].description = '>'\n",
    "\n",
    "    #pstream.firstRun(html_join=get_html_join, show=True)\n",
    "    pstream.show()\n",
    "\n",
    "    from htmldom import htmldom\n",
    "    dom = htmldom.HtmlDom()\n",
    "    dom.parseHTML( pstream._html )\n",
    "    elem = dom.find('div[id=graph_table_R]')\n",
    "    #new = 'test'+elem.text()\n",
    "    #elem.text(new)\n",
    "    #dom.find('*').html()\n",
    "    elem.text()\n",
    "\n",
    "    pstream._html\n",
    "    _plot_html, plotdivid, _, _ = pstream._plot_html()\n",
    "    #pstream._div_id, plotdivid, _plot_html.split(str(plotdivid))\n",
    "    pstream._update(1024)\n",
    "    #pstream._obj.data\n",
    "\n",
    "    def consumer_action(buffer, pstream=pstream, keep=oo_init):\n",
    "        # take new data\n",
    "        oo = oxy.Oxy(buffer, do_eval=False)\n",
    "        # update evaluation\n",
    "        keep.eval()\n",
    "        # update plot from keep\n",
    "        pstream._fig = plotly_get_fig(keep)\n",
    "        pstream._oo = keep\n",
    "        pstream.update()\n",
    "        #\n",
    "        return oo\n",
    "\n",
    "    _ = asyncio.ensure_future(run_subscription(consumer_action=consumer_action, \n",
    "                                               produce_n=n, \n",
    "                                               consume_n=n,\n",
    "                                               consume_keep=oo_init))\n",
    "\n",
    "    #pstream._oo.data\n",
    "    #pstream._fig"
   ]
  },
  {
   "cell_type": "code",
   "execution_count": 6,
   "metadata": {
    "collapsed": true,
    "hideCode": true,
    "hideOutput": true,
    "hidePrompt": true,
    "hide_input": true,
    "slideshow": {
     "slide_type": "skip"
    }
   },
   "outputs": [],
   "source": [
    "###### plotly layout\n",
    "# ply_layout = ply_go.Layout(\n",
    "#     autosize=False,\n",
    "#     width=800,\n",
    "#     height=600,\n",
    "#     margin=ply_go.Margin(\n",
    "#         l=50,\n",
    "#         r=50,\n",
    "#         b=100,\n",
    "#         t=100,\n",
    "#         pad=4\n",
    "#     ),\n",
    "#     paper_bgcolor='#f4eded',\n",
    "#     plot_bgcolor='#ffffff'\n",
    "# )"
   ]
  },
  {
   "cell_type": "code",
   "execution_count": 7,
   "metadata": {
    "hideCode": true,
    "hideOutput": true,
    "hidePrompt": true,
    "slideshow": {
     "slide_type": "skip"
    }
   },
   "outputs": [
    {
     "data": {
      "text/html": [
       "<style>\n",
       ".box{\n",
       "    display: flex;\n",
       "    flex-direction: row;\n",
       "    flex-wrap: nowrap;\n",
       "    justify-content: flex-start;\n",
       "    align-content: stretch;\n",
       "    width: 100%;\n",
       "    height: 70%;\n",
       "    margin: auto;\n",
       "    margin-bottom: 2em;\n",
       "    /*\n",
       "    background-color: gray;\n",
       "    */\n",
       "}\n",
       ".col{\n",
       "    flex: 1;\n",
       "}\n",
       "</style>"
      ],
      "text/plain": [
       "<IPython.core.display.HTML object>"
      ]
     },
     "metadata": {},
     "output_type": "display_data"
    }
   ],
   "source": [
    "%%HTML\n",
    "<style>\n",
    ".box{\n",
    "    display: flex;\n",
    "    flex-direction: row;\n",
    "    flex-wrap: nowrap;\n",
    "    justify-content: flex-start;\n",
    "    align-content: stretch;\n",
    "    width: 100%;\n",
    "    height: 70%;\n",
    "    margin: auto;\n",
    "    margin-bottom: 2em;\n",
    "    /*\n",
    "    background-color: gray;\n",
    "    */\n",
    "}\n",
    ".col{\n",
    "    flex: 1;\n",
    "}\n",
    "</style>"
   ]
  },
  {
   "cell_type": "code",
   "execution_count": 8,
   "metadata": {
    "collapsed": true,
    "hideCode": true,
    "hideOutput": true,
    "hidePrompt": true,
    "slideshow": {
     "slide_type": "skip"
    }
   },
   "outputs": [],
   "source": [
    "md_kw = dict(parse_inline_html=True,\n",
    "             escape=False)\n"
   ]
  },
  {
   "cell_type": "code",
   "execution_count": 9,
   "metadata": {
    "collapsed": true,
    "hideCode": true,
    "hidePrompt": true,
    "slideshow": {
     "slide_type": "skip"
    }
   },
   "outputs": [],
   "source": [
    "def col2_html(colL, colR, \n",
    "              flexL=1, flexR=1,\n",
    "              idL=None, idR=None,\n",
    "              header='',\n",
    "              modeL=None, modeR=None, modeH=None,\n",
    "              mode_default='markdown', \n",
    "              as_raw=False):\n",
    "    if modeL is None:\n",
    "        modeL = mode_default\n",
    "    if modeR is None:\n",
    "        modeR = mode_default\n",
    "    if modeH is None:\n",
    "        modeH = mode_default\n",
    "    if modeL == 'markdown':\n",
    "        colL = markdown(colL, **md_kw)\n",
    "    if modeR == 'markdown':\n",
    "        colR = markdown(colR, **md_kw)\n",
    "    if modeL == 'markdown':\n",
    "        header = markdown(header, **md_kw)\n",
    "    if header:\n",
    "        header = \"\"\"\n",
    "        {}\n",
    "        \"\"\".format(header)\n",
    "    if idL is not None:\n",
    "        idL = 'id=\"{}\"'.format(idL)\n",
    "    if idR is not None:\n",
    "        idR = 'id=\"{}\"'.format(idR)\n",
    "    raw = \"\"\"\n",
    "{h}\n",
    "<div class=\"box\">\n",
    "<div {id1} class=\"col\" style=\"flex: {f1}\">\n",
    "{c1}\n",
    "</div>\n",
    "<div {id2} class=\"col\" style=\"flex: {f2}\">\n",
    "{c2}\n",
    "</div>\n",
    "</div>\n",
    "    \"\"\".format(c1=colL, c2=colR, \n",
    "               f1=flexL, f2=flexR, \n",
    "               id1=idL, id2=idR,\n",
    "               h=header)\n",
    "    if as_raw:\n",
    "        return raw\n",
    "    else:\n",
    "        return HTML(raw)\n"
   ]
  },
  {
   "cell_type": "markdown",
   "metadata": {
    "hideCode": true,
    "hideOutput": false,
    "hidePrompt": true,
    "hide_input": true,
    "slideshow": {
     "slide_type": "skip"
    }
   },
   "source": [
    "$\\LaTeX$ ...\n",
    "\n",
    "$\\require{mhchem}$\n",
    "$\\require{AMSmath}$\n",
    "$\\require{AMSsymbols}$\n",
    "$\\require{autobold}$\n",
    "\n",
    "$\\newcommand{\\nicefrac}[2]{\\left. #1\\right/#2}$\n",
    "\n",
    "$\\newcommand{\\conc}[1]{\\left[#1\\right]}$\n",
    "\n",
    "$\\newcommand{\\hb}{\\sf{Hb}}$\n",
    "$\\newcommand{\\hbco}{\\sf{HbCO}}$\n",
    "$\\newcommand{\\Iac}{I_{AC}}$\n",
    "$\\newcommand{\\Idc}{I_{DC}}$\n",
    "$\\newcommand{\\hbm}{\\sf{MetHb}}$\n",
    "$\\newcommand{\\hbo}{\\sf{HbO_2}}$\n",
    "$\\newcommand{\\mux}[2]{\\mu_a^{#1}\\left(\\lambda_{#2}\\right)}$\n",
    "$\\newcommand{\\oo}{\\ce{O2}}$\n",
    "$\\newcommand{\\po}{\\sf{pO_2}}$\n",
    "$\\newcommand{\\pao}{\\sf{PaO_2}}$\n",
    "$\\newcommand{\\ros}{\\sf{R_{OS}}}$\n",
    "$\\newcommand{\\sao}{\\sf{Sa}_{O_2}}$\n",
    "$\\newcommand{\\spo}{\\sf{Sp}_{O_2}}$\n",
    "\n",
    "[//]: # ($\\nicefrac{1}{2}$)\n",
    "[//]: # ($\\spo$)\n"
   ]
  },
  {
   "cell_type": "code",
   "execution_count": 10,
   "metadata": {
    "hideCode": true,
    "hideOutput": true,
    "hidePrompt": true,
    "slideshow": {
     "slide_type": "skip"
    }
   },
   "outputs": [
    {
     "data": {
      "text/markdown": [
       "\n",
       "<img src=\"figs/Beuth.png\"   style=\"width: 80%\" />\n"
      ],
      "text/plain": [
       "<IPython.core.display.Markdown object>"
      ]
     },
     "execution_count": 10,
     "metadata": {},
     "output_type": "execute_result"
    }
   ],
   "source": [
    "colR1 = \"\"\"\n",
    "<img src=\"figs/Beuth.png\"   style=\"width: 80%\" />\n",
    "\"\"\"\n",
    "Markdown(colR1)"
   ]
  },
  {
   "cell_type": "code",
   "execution_count": 11,
   "metadata": {
    "hideCode": true,
    "hideOutput": true,
    "hidePrompt": true,
    "slideshow": {
     "slide_type": "skip"
    }
   },
   "outputs": [
    {
     "data": {
      "text/markdown": [
       "\n",
       "### Probevorlesung\n",
       "#### Ralf Ahlbrink\n"
      ],
      "text/plain": [
       "<IPython.core.display.Markdown object>"
      ]
     },
     "execution_count": 11,
     "metadata": {},
     "output_type": "execute_result"
    }
   ],
   "source": [
    "colL1 = \"\"\"\n",
    "### Probevorlesung\n",
    "#### Ralf Ahlbrink\n",
    "\"\"\"\n",
    "Markdown(colL1)"
   ]
  },
  {
   "cell_type": "code",
   "execution_count": 12,
   "metadata": {
    "hideCode": true,
    "hideOutput": true,
    "hidePrompt": true,
    "slideshow": {
     "slide_type": "skip"
    }
   },
   "outputs": [
    {
     "data": {
      "text/markdown": [
       "\n",
       "# Pulsoxymeter\n",
       "\n",
       "***\n"
      ],
      "text/plain": [
       "<IPython.core.display.Markdown object>"
      ]
     },
     "execution_count": 12,
     "metadata": {},
     "output_type": "execute_result"
    }
   ],
   "source": [
    "header = \"\"\"\n",
    "# Pulsoxymeter\n",
    "\n",
    "***\n",
    "\"\"\"\n",
    "Markdown(header)"
   ]
  },
  {
   "cell_type": "markdown",
   "metadata": {
    "hideCode": true,
    "hidePrompt": true,
    "slideshow": {
     "slide_type": "slide"
    }
   },
   "source": [
    "# Pulsoxymeter\n",
    "\n",
    "***"
   ]
  },
  {
   "cell_type": "code",
   "execution_count": 13,
   "metadata": {
    "hideCode": true,
    "hidePrompt": true,
    "slideshow": {
     "slide_type": "-"
    }
   },
   "outputs": [
    {
     "data": {
      "text/html": [
       "\n",
       "\n",
       "<div class=\"box\">\n",
       "<div None class=\"col\" style=\"flex: 1\">\n",
       "<h3>Probevorlesung</h3>\n",
       "<h4>Ralf Ahlbrink</h4>\n",
       "\n",
       "</div>\n",
       "<div None class=\"col\" style=\"flex: 1.5\">\n",
       "<p><img src=\"figs/Beuth.png\"   style=\"width: 80%\" /></p>\n",
       "\n",
       "</div>\n",
       "</div>\n",
       "    "
      ],
      "text/plain": [
       "<IPython.core.display.HTML object>"
      ]
     },
     "metadata": {},
     "output_type": "display_data"
    }
   ],
   "source": [
    "display(col2_html(colL1, colR1, flexR=1.5))"
   ]
  },
  {
   "cell_type": "markdown",
   "metadata": {
    "hideCode": true,
    "hidePrompt": true,
    "slideshow": {
     "slide_type": "slide"
    }
   },
   "source": [
    "##  Was ist ein Pulsoxymeter und wofür wird es genutzt?\n",
    "***\n",
    "### Definitionen und Anwendung\n"
   ]
  },
  {
   "cell_type": "markdown",
   "metadata": {
    "hideCode": true,
    "hidePrompt": true,
    "slideshow": {
     "slide_type": "subslide"
    }
   },
   "source": [
    "####  \"Das Gerät\" \n",
    "#### für Messung Herzschlag und $\\oo$-Sättigung des Blutes\n"
   ]
  },
  {
   "cell_type": "markdown",
   "metadata": {
    "hideCode": true,
    "hideOutput": false,
    "hidePrompt": true,
    "slideshow": {
     "slide_type": "fragment"
    }
   },
   "source": [
    "<img src=\"figs/hardware/Fingerpulsoximeter-AVAX_AV-50DL.png\"  style=\"width: 70%\" />\n"
   ]
  },
  {
   "cell_type": "markdown",
   "metadata": {
    "hideCode": true,
    "hidePrompt": true,
    "slideshow": {
     "slide_type": "subslide"
    }
   },
   "source": [
    "#### physiologische Bedeutung des  Parameters Sauerstoffsättigung\n",
    "\n",
    "- Sauerstoffsättigung in Arterien zeigt Atemfunktion und Transportvermögen im Blut an\n",
    "\n",
    "  - ca. 98% des Sauerstofftransportes über Hämoglobine in Erythrozyten\n",
    "  \n",
    "  - $1\\,\\oo$ als Ligand pro Hämgruppe, <br>\n",
    "  4 Hämgruppen pro $\\hb$, <br>\n",
    "  Bindung erfolgt kooperativ\n",
    "  \n",
    "  \n",
    "- der Sauerstoffpartialdruck charakterisiert den <br>\n",
    "$\\oo$-Austausch über Membranen\n",
    "\n",
    "[//]: # (  - Lunge $\\rightarrow$ Blutkreislauf )\n",
    "  \n",
    "[//]: # (  - Kapillaren $\\rightarrow$ Gewebe )"
   ]
  },
  {
   "cell_type": "markdown",
   "metadata": {
    "hideCode": true,
    "hidePrompt": true,
    "slideshow": {
     "slide_type": "subslide"
    }
   },
   "source": [
    "<img src=\"figs/basics/KanI-Fig3.19-oxygen_saturation_S_over_partial_pressure_pO2.png\" style=\"width: 50%\" />\n",
    "\n",
    "- Hypoxie: geringer arterieller $\\oo$-Partialdruck\n",
    "- **Hypoxygenation**: geringe Sauerstoffsättigung im arteriellen Blut ($\\sao$)"
   ]
  },
  {
   "cell_type": "markdown",
   "metadata": {
    "hideCode": true,
    "hidePrompt": true,
    "slideshow": {
     "slide_type": "subslide"
    }
   },
   "source": [
    "##### die *funktionelle* Sauerstoffsättigung $\\spo$\n",
    "\n",
    "<div class=\"alert alert-block alert-info\">\n",
    "$$\n",
    "\\spo = \\frac{\\large\\conc{\\hbo}}{\\large\\conc{\\hbo} + \\conc{\\hb}} \\times 100\\%\n",
    "$$\n",
    "</div class=\"alert alert-block alert-info\">\n",
    "\n",
    "- $\\hb$ ist deoxygeniertes Hämoglobin\n",
    "- $\\hbo$ ist oxygeniertes Hämoglobin "
   ]
  },
  {
   "cell_type": "markdown",
   "metadata": {
    "hideCode": true,
    "hidePrompt": true,
    "slideshow": {
     "slide_type": "subslide"
    }
   },
   "source": [
    "<div class=\"alert alert-block alert-info\">\n",
    "#### Pulsoxymeter\n",
    "Instrument zur nichtinvasiven Bestimmung \n",
    "\n",
    "  der Sauerstoffsättigung von Hämoglobin im arteriellen Blut \n",
    "  \n",
    "  durch Messung der Lichtabsorption\n",
    "  \n",
    "  ***\n",
    "  \n",
    "  Das Verfahren wird *Pulsoymetrie* genannt.\n",
    "</div class=\"alert alert-block alert-info\">\n"
   ]
  },
  {
   "cell_type": "markdown",
   "metadata": {
    "hideCode": true,
    "hidePrompt": true,
    "slideshow": {
     "slide_type": "subslide"
    }
   },
   "source": [
    "#### Optische Absorptionsmessung von Hämoglobin\n",
    "\n",
    "konventionelles Verfahren: 2 LEDs, also \"2 Wellenlängen\", im roten und NIR Spektralbereich <br>\n",
    "  $\\rightarrow$ Unterscheidung von 2 Komponenten der *funktionellen* Sauerstoffsättigung in Hämoglobin"
   ]
  },
  {
   "cell_type": "markdown",
   "metadata": {
    "hideCode": true,
    "hideOutput": true,
    "hidePrompt": true,
    "slideshow": {
     "slide_type": "fragment"
    }
   },
   "source": [
    "<img src=\"figs/basics/KanII-Fig5.1-principle.png\"  style=\"width: 70%\" />\n"
   ]
  },
  {
   "cell_type": "markdown",
   "metadata": {
    "hideCode": true,
    "hidePrompt": true,
    "slideshow": {
     "slide_type": "subslide"
    }
   },
   "source": [
    "<div class=\"alert alert-block alert-success\">\n",
    "### Kennen Sie Anwendungsbereiche\n",
    "### von Pulsoxymetern?\n",
    "</div class=\"alert alert-block alert-success\">\n"
   ]
  },
  {
   "cell_type": "markdown",
   "metadata": {
    "hideCode": true,
    "hidePrompt": true,
    "slideshow": {
     "slide_type": "-"
    }
   },
   "source": [
    "- Erkennung von ...\n",
    "\n",
    "[//]: # ( Schlafapnoe, Höhenkrankheit )\n",
    "\n",
    "- Monitoring in  ... \n",
    "\n",
    "[//]: # ( Rettungsdienst, Intensivstation, Anästhesie )\n",
    "\n",
    "- Neugeborene ...\n",
    "\n",
    "[//]: # ( krit. angeborener Herzfehler )\n",
    "\n",
    "[//]: # ( 'Wearables': Fitness )"
   ]
  },
  {
   "cell_type": "markdown",
   "metadata": {
    "hideCode": true,
    "hidePrompt": true,
    "slideshow": {
     "slide_type": "subslide"
    }
   },
   "source": [
    "Zur Bestimmung von $\\sao$ inklusive *disfunktionaler* Hämoglobine, $\\conc{\\hbco}$ und $\\conc{\\hbm}$, messen Laborgeräte erweiterte Wellenlängenbereiche (z.B. \"mehr als sieben unterschiedliche Wellenlängen\") und nutzen eine entsprechend optimierte Auswertung \n",
    "\n",
    "<img src=\"figs/hardware/lab_devices-Masimo.png\"  style=\"width: 35%\" />"
   ]
  },
  {
   "cell_type": "markdown",
   "metadata": {
    "hideCode": true,
    "hidePrompt": true,
    "slideshow": {
     "slide_type": "subslide"
    }
   },
   "source": [
    "##### die \"fraktionelle\" Sauerstoffsättigung\n",
    "\n",
    "$\\sao = \\frac{\\large\\conc{\\hbo}}{\\large\\conc{\\hbo} + \\conc{\\hb} + \\conc{\\hbco} + \\conc{\\hbm}} \\times 100\\%$\n",
    "\n",
    "- Berücksichtig Anteile dysfunktioneller Hb-Derivate\n",
    "  - $\\hbco$: Kohlenmonoxid als Ligand\n",
    "  - $\\hbm$: Methämoglobin mit oxidiertem Häm-Eisen\n",
    "\n",
    "<img src=\"figs/basics/rainbow_graph.png\"  style=\"width: 50%\" />"
   ]
  },
  {
   "cell_type": "markdown",
   "metadata": {
    "hideCode": true,
    "hidePrompt": true,
    "slideshow": {
     "slide_type": "subslide"
    }
   },
   "source": [
    "<div class=\"alert alert-block alert-warning\">\n",
    "###### Annahmen und Näherungen in der Praxis:\n",
    "- Bei der Pulsoxymetrie wird die arterielle Sauerstoffsättigung bestimmt, aber nicht direkt der $\\oo$-Partialdruck\n",
    "- Messungen mit 2 Wellenlängen\n",
    "  * $\\spo$ ist dann *funktionelle* Sättigung\n",
    "  * ... welche unter Ausschluss von kritischen Fällen (z.B. Verdacht auf Rauchvergiftung) der kompletten Sättigung gleichgesetzt wird: $\\sao \\approx \\spo$\n",
    "</div class=\"alert alert-block alert-warning\">"
   ]
  },
  {
   "cell_type": "markdown",
   "metadata": {
    "hideCode": true,
    "hidePrompt": true,
    "slideshow": {
     "slide_type": "subslide"
    }
   },
   "source": [
    "#### Vertiefende Literatur: Medizinische Grundlagen und Anwendungen\n",
    "1. Rüdiger Kramme - *Medizintechnik*\n",
    "1. https://de.wikipedia.org/wiki/Hämoglobin"
   ]
  },
  {
   "cell_type": "markdown",
   "metadata": {
    "hideCode": true,
    "hidePrompt": true,
    "slideshow": {
     "slide_type": "slide"
    }
   },
   "source": [
    "## Wie bestimmt man die Sauerstoffsättigung photometrisch?\n",
    "\n",
    "***\n",
    "### Grundlagen"
   ]
  },
  {
   "cell_type": "markdown",
   "metadata": {
    "hideCode": true,
    "hidePrompt": true,
    "slideshow": {
     "slide_type": "subslide"
    }
   },
   "source": [
    "<div class=\"alert alert-block alert-success\">\n",
    "\n",
    "### Welche Gesetzmäßigkeit wird bei \n",
    "### Messungen der Lichtabsorption\n",
    "### standardmäßig verwendet?\n",
    "\n",
    "</div class=\"alert alert-block alert-success\">\n"
   ]
  },
  {
   "cell_type": "markdown",
   "metadata": {
    "hideCode": true,
    "hidePrompt": true,
    "slideshow": {
     "slide_type": "subslide"
    }
   },
   "source": [
    "### Lambert-Beer'sches Gesetz: $I(A) = I_0 10^{-A}$\n",
    "\n",
    "$\n",
    "\\begin{align}\n",
    "A(\\lambda) &= \\sum{\\epsilon_i(\\lambda) c_i x} \\\\\n",
    "x &: \\textsf{optische Weglänge} \\\\\n",
    "\\epsilon_i(\\lambda) &: {\\Tiny\\textsf{molarer dekadischer }} \\textsf{Extinktionskoeffizient } \n",
    "{\\Tiny\\textsf{für Stoff } i } \\\\\n",
    "c_i &: \\textsf{Konzentration } {\\Tiny\\textsf{Stoff } i } \\\\\n",
    "\\end{align}\n",
    "$\n",
    "\n",
    "***"
   ]
  },
  {
   "cell_type": "markdown",
   "metadata": {
    "hideCode": true,
    "hidePrompt": true,
    "slideshow": {
     "slide_type": "fragment"
    }
   },
   "source": [
    "Beispiele ermittelt mittels hämolysierter Blutproben (S. Prahl)\n",
    "\n",
    "$\n",
    "\\begin{align}\n",
    "\\epsilon_{\\hb}(660\\;\\sf{nm}) & \\approx & 3227\\;\\sf{cm}^{-1}\\sf{M}^{-1} \\\\\n",
    "\\epsilon_{\\hbo}(660\\;\\sf{nm}) & \\approx & 320\\;\\sf{cm}^{-1}\\sf{M}^{-1}\n",
    "\\end{align}\n",
    "$"
   ]
  },
  {
   "cell_type": "markdown",
   "metadata": {
    "hideCode": true,
    "hidePrompt": true,
    "slideshow": {
     "slide_type": "subslide"
    }
   },
   "source": [
    "###### Eine Formulierung für \"Schichtstrukturen\"\n",
    "\n",
    "- $\\epsilon_ic \\rightarrow \\mu^i_a$ \n",
    "- Schichtdicken $x_i$ anstelle einer Weglänge $x$:\n",
    "\n",
    "$\n",
    "\\begin{aligned}\n",
    "I  &= \n",
    "I_0 \n",
    "\\cdot  e^{-\\color{blue}{\\mu^A_a} \\color{red}{x_A}} \n",
    "\\cdot \\textsf{...}\n",
    "\\qquad \\textsf{(A: Arterien)} \\\\\n",
    " \\color{blue}{\\mu^A_a}\\left(\\color{green}{\\spo}\\right) &= \\left(\\color{green}{\\spo}\\color{blue}{\\mu_a^\\hbo} + (1 - \\color{green}{\\spo}) \\color{blue}{\\mu_a^\\hb} \\right ) \n",
    "\\end{aligned}\n",
    "$\n",
    "\n",
    "***"
   ]
  },
  {
   "cell_type": "markdown",
   "metadata": {
    "hideCode": true,
    "hidePrompt": true,
    "slideshow": {
     "slide_type": "fragment"
    }
   },
   "source": [
    "Beispiel $\\Tiny\\textsf{(Vollblut mit Hämatokrit-Wert Hct 45%, \n",
    "N. Bosschaart et al 2013)}$:\n",
    "\n",
    "$\n",
    "\\begin{align}\n",
    "\\mu_a^{\\hb}(660\\;\\sf{nm}) & \\approx & 1,64\\;\\sf{mm}^{-1} \\\\\n",
    "\\mu_a^{\\hbo}(660\\;\\sf{nm}) & \\approx & 0,15\\;\\sf{mm}^{-1}\n",
    "\\end{align}\n",
    "$"
   ]
  },
  {
   "cell_type": "markdown",
   "metadata": {
    "hideCode": true,
    "hidePrompt": true,
    "slideshow": {
     "slide_type": "subslide"
    }
   },
   "source": [
    "<img src=\"figs/basics/KanII-Fig5.14-intensity_parts.png\"  style=\"width: 70%\" />"
   ]
  },
  {
   "cell_type": "code",
   "execution_count": 14,
   "metadata": {
    "collapsed": true,
    "hideCode": true,
    "hideOutput": true,
    "hidePrompt": true,
    "slideshow": {
     "slide_type": "-"
    }
   },
   "outputs": [],
   "source": [
    "colL3 = \"\"\"\n",
    "<img src=\"figs/basics/Hb_and_LEDs_spectra.png\"  style=\"width: 100%\" />\n",
    "\"\"\"\n",
    "#Markdown(colL3)"
   ]
  },
  {
   "cell_type": "code",
   "execution_count": 15,
   "metadata": {
    "collapsed": true,
    "hideCode": true,
    "hideOutput": true,
    "hidePrompt": true,
    "slideshow": {
     "slide_type": "-"
    }
   },
   "outputs": [],
   "source": [
    "colR3 = \"\"\"\n",
    "<img src=\"figs/eval/eval_oxy-steps_1to3-excerpt.png\"  style=\"width: 100%\" />\n",
    "\"\"\"\n",
    "#Markdown(colR3)"
   ]
  },
  {
   "cell_type": "markdown",
   "metadata": {
    "hideCode": true,
    "hideOutput": false,
    "hidePrompt": true,
    "slideshow": {
     "slide_type": "subslide"
    }
   },
   "source": [
    "### Ein Messergebnis"
   ]
  },
  {
   "cell_type": "code",
   "execution_count": 16,
   "metadata": {
    "hideCode": true,
    "hideOutput": false,
    "hidePrompt": true,
    "slideshow": {
     "slide_type": "fragment"
    }
   },
   "outputs": [
    {
     "data": {
      "text/html": [
       "\n",
       "\n",
       "<div class=\"box\">\n",
       "<div None class=\"col\" style=\"flex: 1\">\n",
       "<p><img src=\"figs/basics/Hb_and_LEDs_spectra.png\"  style=\"width: 100%\" /></p>\n",
       "\n",
       "</div>\n",
       "<div None class=\"col\" style=\"flex: 1\">\n",
       "<p><img src=\"figs/eval/eval_oxy-steps_1to3-excerpt.png\"  style=\"width: 100%\" /></p>\n",
       "\n",
       "</div>\n",
       "</div>\n",
       "    "
      ],
      "text/plain": [
       "<IPython.core.display.HTML object>"
      ]
     },
     "metadata": {},
     "output_type": "display_data"
    }
   ],
   "source": [
    "display(col2_html(colL3, colR3))"
   ]
  },
  {
   "cell_type": "markdown",
   "metadata": {
    "hideCode": true,
    "hidePrompt": true,
    "slideshow": {
     "slide_type": "subslide"
    }
   },
   "source": [
    "#### Der \"Trick\": \n",
    "######  Die Pulsmodulation ergibt die Arterien-Schicht\n",
    "\n",
    "- Pulsdruckwelle verändert Durchmesser der Arterien\n",
    "\n",
    "  $\\rightarrow $ mit Herzschlag modulierter Intensitätsanteil: $\\Iac$\n",
    "  \n",
    "- \"Untergrund\"-Intensität: $\\Idc$\n",
    "\n",
    "- $\\frac{\\Iac}{\\Idc} \\approx \\frac{\\Delta I}{I_0} \\propto - \\color{blue}{\\mu^A_a}\\left(\\color{green}{\\spo}\\right) \\color{red}{\\Delta x_A}$\n"
   ]
  },
  {
   "cell_type": "markdown",
   "metadata": {
    "hideCode": true,
    "hidePrompt": true,
    "slideshow": {
     "slide_type": "subslide"
    }
   },
   "source": [
    "#### R Faktor (*ratio of ratio*)\n",
    "\n",
    "<div class=\"alert alert-block alert-info\">\n",
    "\n",
    "$$\n",
    "\\color{green}{\\ros}\n",
    "     =  \\frac{ \\nicefrac{I^{RED}_{AC}}{I^{RED}_{DC}} }{ \\nicefrac{I^{IR}_{AC}}{I^{IR}_{DC}} } \n",
    "$$\n",
    "\n",
    "</div class=\"alert alert-block alert-info\">\n",
    "\n",
    "***\n",
    "\n",
    "$$\n",
    "\\quad\\quad     {\\;\\approx\\;} \\color{blue}{\n",
    "     \\frac{\\mux{A}{RED}\\left(\\color{green}{\\spo}\\right)}\n",
    "          {\\mux{A}{IR}\\left(\\color{green}{\\spo}\\right)}\n",
    "          }\n",
    "$$\n",
    "\n",
    "[//]: # ( Zusammenhang mit Sauerstoffsättigung )\n",
    "\n"
   ]
  },
  {
   "cell_type": "markdown",
   "metadata": {
    "hideCode": true,
    "hidePrompt": true,
    "slideshow": {
     "slide_type": "subslide"
    }
   },
   "source": [
    "<div class=\"alert alert-block alert-info\">\n",
    "#### Aus den Verhältnissen der *Puls-modulierten* \n",
    "#### zu *nicht-modulierten Intensitäten* von Ergebnissen \n",
    "#### bei 2 verschiedenen Wellenlängen, $\\color{#C82C1C}{RED}$ und $\\color{#A38C89}{IR}$, \n",
    "#### wird der Quotient $\\color{green}{\\ros}$ gebildet. Dieser Wert ist\n",
    "#### näherungsweise nur noch abhängig von $\\color{green}{\\sao}$.\n",
    "</div class=\"alert alert-block alert-info\">\n",
    "\n",
    "***\n",
    "\n",
    "<div class=\"alert alert-block alert-info\">\n",
    "$$\n",
    "\\begin{align}\n",
    "\\color{green}{\\spo}\n",
    "  &= \n",
    "  {\\Tiny\n",
    "     \\frac{\\color{green}{\\ros}\\mux{\\hb}{IR}-\\mux{\\hb}{RED}}\n",
    "          {\\left(\\mux{\\hbo}{RED}-\\mux{\\hb}{RED}\\right) \n",
    "           + \\color{green}{\\ros} \\left(\\mux{\\hb}{IR} - \\mux{\\hbo}{IR}\\right)} \n",
    "   } \\\\ \n",
    "\\\\                       \n",
    "  &{\\;\\approx\\;} \\color{purple}{c_1} \\color{green}{\\ros} + \\color{purple}{c_2}\n",
    "\\end{align}\n",
    "$$\n",
    "</div class=\"alert alert-block alert-info\">"
   ]
  },
  {
   "cell_type": "markdown",
   "metadata": {
    "hideCode": true,
    "hidePrompt": true,
    "slideshow": {
     "slide_type": "subslide"
    }
   },
   "source": [
    "##### Achtung $\\textsf{--}$ Streuung!\n",
    "\n",
    "<img src=\"figs/basics/KanII-Fig5.9-reflectance_mode-scattering.png\"  style=\"width: 40%\" />\n",
    "\n",
    "Das Bild zeigt einen Sensor in Reflexionsanordnung."
   ]
  },
  {
   "cell_type": "markdown",
   "metadata": {
    "hideCode": true,
    "hidePrompt": true,
    "slideshow": {
     "slide_type": "slide"
    }
   },
   "source": [
    "## Die Messung klappt?\n",
    "\n",
    "***\n",
    "### Demonstrator und Live-Experiment"
   ]
  },
  {
   "cell_type": "markdown",
   "metadata": {
    "hideCode": true,
    "hidePrompt": true,
    "slideshow": {
     "slide_type": "subslide"
    }
   },
   "source": [
    "### Live Experiment mit \"Kalibrierung\""
   ]
  },
  {
   "cell_type": "markdown",
   "metadata": {
    "hideCode": true,
    "hidePrompt": true,
    "slideshow": {
     "slide_type": "fragment"
    }
   },
   "source": [
    "<div class=\"alert alert-block alert-success\">\n",
    "\n",
    "#### Versuch\n",
    "$\\ros$-Werten des Demonstrators im Vergleich zu <br>\n",
    "$\\spo$-Werte des kommerziellen Pulsoxymeters  <br>\n",
    "mehrerer Probanden sollen für eine Kalibrierung des Sensors ermittelt werden.\n",
    "\n",
    "- Werte tabellieren \n",
    "- Ausgleichsgerade bzw. lineare Regression <br>\n",
    "  $\\spo = c_1 \\ros + c_2$\n",
    "\n",
    "</div class=\"alert alert-block alert-success\">"
   ]
  },
  {
   "cell_type": "markdown",
   "metadata": {
    "hideCode": true,
    "hidePrompt": true,
    "slideshow": {
     "slide_type": "subslide"
    }
   },
   "source": [
    "### Demonstrator Hardware"
   ]
  },
  {
   "cell_type": "markdown",
   "metadata": {
    "collapsed": true,
    "hideCode": true,
    "hidePrompt": true,
    "nbpresent": {
     "id": "3bf87f48-25ea-4e09-8c84-bef0f921a3d5"
    },
    "slideshow": {
     "slide_type": "subslide"
    }
   },
   "source": [
    "###### Sensormodul mit 3 LEDs und 1 Photodiode\n",
    "<img src=\"figs/hardware/MAX30105_Close_up.jpg\"  style=\"width: 40%\" />"
   ]
  },
  {
   "cell_type": "markdown",
   "metadata": {
    "hideCode": true,
    "hidePrompt": true,
    "nbpresent": {
     "id": "9577cd0f-bad0-4727-b537-594ab8cf4721"
    },
    "slideshow": {
     "slide_type": "fragment"
    }
   },
   "source": [
    "###### Anordnung auf Steckbrett\n",
    "<img src=\"figs/hardware/ESP32_MAX30105_bb.png\"  style=\"width: 40%\" />"
   ]
  },
  {
   "cell_type": "markdown",
   "metadata": {
    "hideCode": true,
    "hidePrompt": true,
    "nbpresent": {
     "id": "888b3fd9-ef03-41c2-a2e7-e85a76972199"
    },
    "slideshow": {
     "slide_type": "subslide"
    }
   },
   "source": [
    "* Interface-Platine mit Maxim MAX30105\n",
    "  - diese Variante mit 3 LEDs <br /> ($\\lambda$: 527 nm, 660 nm, 880 nm) <br />\n",
    "    ist offiziell ein \"integriertes Partikelsensormodul für Rauchmeldeanlagen\"  \n",
    "  - MAX30102 mit 2 LEDs: \"Pulsoximeter- & Herzfrequenz-Sensor\"\n",
    "  - I$^2$C Kommunikation (\"2-Draht-Bus\")"
   ]
  },
  {
   "cell_type": "markdown",
   "metadata": {
    "hideCode": true,
    "hidePrompt": true,
    "nbpresent": {
     "id": "16858d23-38eb-404c-810c-e22106a131b9"
    },
    "slideshow": {
     "slide_type": "subslide"
    }
   },
   "source": [
    "###### Funktionsschema Sensormodul\n",
    "<img src=\"figs/hardware/Maxim_MAX30105_funcdia.png\"  style=\"width: 80%\" />"
   ]
  },
  {
   "cell_type": "markdown",
   "metadata": {
    "hideCode": true,
    "hidePrompt": true,
    "nbpresent": {
     "id": "53cb012b-7308-4faa-9ebf-a14e82ce2a15"
    },
    "slideshow": {
     "slide_type": "subslide"
    }
   },
   "source": [
    "* Microcontroller Board (Sparkfun \"ESP32 Thing\") <br />mit Telemetrie über WLAN\n",
    "* PC \n",
    "  - MQTT (Message Queuing Telemetry Transport) Server\n",
    "  - Auswertesoftware (Python)"
   ]
  },
  {
   "cell_type": "markdown",
   "metadata": {
    "hideCode": true,
    "hidePrompt": true,
    "slideshow": {
     "slide_type": "subslide"
    }
   },
   "source": [
    "##### Kennwerte des Sensors beim Experiment:"
   ]
  },
  {
   "cell_type": "markdown",
   "metadata": {
    "hideCode": true,
    "hidePrompt": true,
    "slideshow": {
     "slide_type": "fragment"
    }
   },
   "source": [
    "| Parameter  | Wert       |\n",
    "|:-----------|------------|\n",
    "| LED Strom  | $\\sim$4 mA |\n",
    "| ADC Integrationszeit und LED-Pulsbreite (ca.)  | 411 $\\mu$s  |\n",
    "| LED Flankenabstand (RED $\\leftrightarrow$ IR)  | 1107 $\\mu$s |\n",
    "| Mittelung und Datendezimierung   | 4 Samples   |\n",
    "| übertragene Sampling-Rate        | $\\sim$20 Hz |"
   ]
  },
  {
   "cell_type": "markdown",
   "metadata": {
    "hideCode": true,
    "hidePrompt": true,
    "slideshow": {
     "slide_type": "subslide"
    }
   },
   "source": [
    "<div class=\"alert alert-block alert-success\">\n",
    "\n",
    "#### Was sind die Ergebnisse ihres Versuches?\n",
    "\n",
    "***\n",
    "\n",
    "#### Warum ist unser Kalibrierversuch *nicht* optimal?\n",
    "\n",
    "</div class=\"alert alert-block alert-success\">"
   ]
  },
  {
   "cell_type": "markdown",
   "metadata": {
    "hideCode": true,
    "hidePrompt": true,
    "slideshow": {
     "slide_type": "subslide"
    }
   },
   "source": [
    "#### Vertiefende Literatur: Messtechnische Grundlagen und Auswertung\n",
    "1. Eugenijus Kaniusas - *Biomedical Signals and Sensors* (insb. Band II)\n",
    "1. John G. Webster - *Design of pulse oximeters*"
   ]
  },
  {
   "cell_type": "markdown",
   "metadata": {
    "hideCode": true,
    "hidePrompt": true,
    "slideshow": {
     "slide_type": "slide"
    }
   },
   "source": [
    "## Was haben wir, und welche Punkte sind noch offen?\n",
    "\n",
    "***\n",
    "### Resümee und Ausblick"
   ]
  },
  {
   "cell_type": "markdown",
   "metadata": {
    "hideCode": true,
    "hidePrompt": true,
    "slideshow": {
     "slide_type": "fragment"
    }
   },
   "source": [
    "<div class=\"alert alert-block alert-success\">\n",
    "Was haben Sie gelernt?\n",
    "</div class=\"alert alert-block alert-success\">"
   ]
  },
  {
   "cell_type": "markdown",
   "metadata": {
    "hideCode": true,
    "hidePrompt": true,
    "slideshow": {
     "slide_type": "subslide"
    }
   },
   "source": [
    "###### Kenntnisse\n",
    "\n",
    "- Anwendungsfelder\n",
    "- reale Systeme und Messdaten\n",
    "- Verständnis des Messprinzips und <br>\n",
    "  der Berechnung $\\spo$"
   ]
  },
  {
   "cell_type": "markdown",
   "metadata": {
    "hideCode": true,
    "hidePrompt": true,
    "slideshow": {
     "slide_type": "fragment"
    }
   },
   "source": [
    "###### Ausblick\n",
    "\n",
    "- Laborexperiment: <br>\n",
    "  Versuch inklusive Abtastung der Analogsignale\n",
    "  \n",
    "- Seminarthema: <br>\n",
    "  Optische Parameter von Gewebe und Blut"
   ]
  },
  {
   "cell_type": "markdown",
   "metadata": {
    "hideCode": true,
    "hideOutput": false,
    "hidePrompt": true,
    "slideshow": {
     "slide_type": "subslide"
    }
   },
   "source": [
    "<div class=\"alert alert-block alert-info\">\n",
    "<img src=\"figs/outlook/Danke_für_den_Input-Beule.png\"  style=\"width: 60%\" />\n",
    "</div class=\"alert alert-block alert-info\">"
   ]
  },
  {
   "cell_type": "markdown",
   "metadata": {
    "hideCode": true,
    "hidePrompt": true,
    "slideshow": {
     "slide_type": "subslide"
    }
   },
   "source": [
    "###### Lernfragen\n",
    "\n",
    "- Was sind die Komponenten eines Pulsoxymeters?\n",
    "- Was sind die entscheidenden \"Tricks\" der Messauswertung?\n",
    "- Welche Messeinflüsse und -unsicherheiten sind zu beachten?"
   ]
  },
  {
   "cell_type": "code",
   "execution_count": 17,
   "metadata": {
    "hideCode": true,
    "hidePrompt": true,
    "slideshow": {
     "slide_type": "subslide"
    }
   },
   "outputs": [
    {
     "data": {
      "text/html": [
       "<img src=\"figs/eval/eval_oxy-steps_1to3.png\"  style=\"width: 80%\" />"
      ],
      "text/plain": [
       "<IPython.core.display.HTML object>"
      ]
     },
     "metadata": {},
     "output_type": "display_data"
    }
   ],
   "source": [
    "display(HTML('<img src=\"figs/eval/eval_oxy-steps_1to3.png\"  style=\"width: 80%\" />'))"
   ]
  },
  {
   "cell_type": "markdown",
   "metadata": {
    "hideCode": true,
    "hidePrompt": true,
    "slideshow": {
     "slide_type": "subslide"
    }
   },
   "source": [
    "FIR-Filter als (*very*) Low-Pass-Filter\n",
    "<img src=\"figs/eval/filter-nearly_dc_low_pass.png\"  style=\"width: 40%\" />"
   ]
  }
 ],
 "metadata": {
  "celltoolbar": "Slideshow",
  "hide_code_all_hidden": true,
  "hide_input": false,
  "kernelspec": {
   "display_name": "Python 3",
   "language": "python",
   "name": "python3"
  },
  "language_info": {
   "codemirror_mode": {
    "name": "ipython",
    "version": 3
   },
   "file_extension": ".py",
   "mimetype": "text/x-python",
   "name": "python",
   "nbconvert_exporter": "python",
   "pygments_lexer": "ipython3",
   "version": "3.6.0"
  },
  "nbpresent": {
   "slides": {
    "10bbf0e5-55a4-465e-bec6-ce937a13461a": {
     "id": "10bbf0e5-55a4-465e-bec6-ce937a13461a",
     "prev": "61ed884f-2683-4b62-af8e-a3c7ede2efdd",
     "regions": {
      "12687aa8-bed1-45b2-bd2c-bf3ee7bb91c5": {
       "attrs": {
        "height": 0.656050382366172,
        "width": 0.27118758434547924,
        "x": 0.678812415654521,
        "y": 0.10000000000000002
       },
       "content": {
        "cell": "83737f81-31f0-4ecc-9cc1-436f92886139",
        "part": "source"
       },
       "id": "12687aa8-bed1-45b2-bd2c-bf3ee7bb91c5"
      },
      "15329de8-64e8-4ad9-a907-b032d9b58351": {
       "attrs": {
        "height": 0.656050382366172,
        "width": 0.6274628879892038,
        "x": 0.05,
        "y": 0.10000000000000002
       },
       "content": {
        "cell": "88cd2103-c994-4ac7-99b9-f525bc01363b",
        "part": "outputs"
       },
       "id": "15329de8-64e8-4ad9-a907-b032d9b58351"
      },
      "a9564b76-9c29-4de4-8311-a2c9d9aabb03": {
       "attrs": {
        "height": 0.1414305176293767,
        "width": 0.8,
        "x": 0.09936254790823215,
        "y": 0.7585694823706234
       },
       "content": {
        "cell": "936cc104-103c-4d71-b514-993c0d535761",
        "part": "widgets"
       },
       "id": "a9564b76-9c29-4de4-8311-a2c9d9aabb03"
      }
     }
    },
    "2e5e35c8-5970-4012-af32-f4866928bc4b": {
     "id": "2e5e35c8-5970-4012-af32-f4866928bc4b",
     "prev": "f8c6301c-7bac-45c7-85c8-c2a7ce0fd8d4",
     "regions": {
      "14a6e803-7cfa-4049-a8f4-c6a52ae77df8": {
       "attrs": {
        "height": 0.2752437013256298,
        "width": 0.22186234817813769,
        "x": 0.6506072874493927,
        "y": 0.1593192382666067
       },
       "content": {
        "cell": "3bf87f48-25ea-4e09-8c84-bef0f921a3d5",
        "part": "source"
       },
       "id": "14a6e803-7cfa-4049-a8f4-c6a52ae77df8"
      },
      "af801195-3624-4ee4-9aeb-86d10f3dd813": {
       "attrs": {
        "height": 0.7238866030678326,
        "width": 0.48906882591093115,
        "x": 0.10000000000000003,
        "y": 0.10239916029389708
       },
       "content": {
        "cell": "888b3fd9-ef03-41c2-a2e7-e85a76972199",
        "part": "source"
       },
       "id": "af801195-3624-4ee4-9aeb-86d10f3dd813"
      },
      "e4a45fc3-d112-4311-b298-b1606169f705": {
       "attrs": {
        "height": 0.29923526765632036,
        "width": 0.36423751686909595,
        "x": 0.5330634278002699,
        "y": 0.6170190433348327
       },
       "content": {
        "cell": "16858d23-38eb-404c-810c-e22106a131b9",
        "part": "source"
       },
       "id": "e4a45fc3-d112-4311-b298-b1606169f705"
      }
     }
    },
    "61ed884f-2683-4b62-af8e-a3c7ede2efdd": {
     "id": "61ed884f-2683-4b62-af8e-a3c7ede2efdd",
     "prev": "2e5e35c8-5970-4012-af32-f4866928bc4b",
     "regions": {
      "3a9e1505-8576-46de-9d9e-181c7e773355": {
       "attrs": {
        "height": 0.2752437013256298,
        "width": 0.22186234817813769,
        "x": 0.6506072874493927,
        "y": 0.1593192382666067
       },
       "content": null,
       "id": "3a9e1505-8576-46de-9d9e-181c7e773355"
      },
      "4402b14d-8359-456e-820d-579b1bcdd3ae": {
       "attrs": {
        "height": 0.2956365272154746,
        "width": 0.46747638326585716,
        "x": 0.42914979757085014,
        "y": 0.5978257792877961
       },
       "content": {
        "cell": "9577cd0f-bad0-4727-b537-594ab8cf4721",
        "part": "source"
       },
       "id": "4402b14d-8359-456e-820d-579b1bcdd3ae"
      },
      "f1da6602-726b-41ed-8863-a85dec825522": {
       "attrs": {
        "height": 0.564342443523673,
        "width": 0.5639676113360323,
        "x": 0.10000000000000003,
        "y": 0.10239916029389708
       },
       "content": {
        "cell": "53cb012b-7308-4faa-9ebf-a14e82ce2a15",
        "part": "source"
       },
       "id": "f1da6602-726b-41ed-8863-a85dec825522"
      }
     }
    },
    "ddbdbc0c-085f-4991-8ff6-efb295b3b209": {
     "id": "ddbdbc0c-085f-4991-8ff6-efb295b3b209",
     "prev": "10bbf0e5-55a4-465e-bec6-ce937a13461a",
     "regions": {
      "199d60e5-b90b-4bdc-a222-84d1469884fb": {
       "attrs": {
        "height": 0.656050382366172,
        "width": 0.27118758434547924,
        "x": 0.678812415654521,
        "y": 0.10000000000000002
       },
       "content": {
        "cell": "924fcaba-7113-45f8-a794-50810cf04d0d",
        "part": "source"
       },
       "id": "199d60e5-b90b-4bdc-a222-84d1469884fb"
      },
      "b50544ca-9757-4c88-b3a8-54ff93e81430": {
       "attrs": {
        "height": 0.1414305176293767,
        "width": 0.8,
        "x": 0.09936254790823215,
        "y": 0.7585694823706234
       },
       "content": {
        "cell": "936cc104-103c-4d71-b514-993c0d535761",
        "part": "widgets"
       },
       "id": "b50544ca-9757-4c88-b3a8-54ff93e81430"
      },
      "b6df4092-2cbb-4d4f-8ad8-3ea39ecb130e": {
       "attrs": {
        "height": 0.656050382366172,
        "width": 0.6274628879892038,
        "x": 0.05,
        "y": 0.10000000000000002
       },
       "content": {
        "cell": "88cd2103-c994-4ac7-99b9-f525bc01363b",
        "part": "outputs"
       },
       "id": "b6df4092-2cbb-4d4f-8ad8-3ea39ecb130e"
      }
     }
    },
    "f8c6301c-7bac-45c7-85c8-c2a7ce0fd8d4": {
     "id": "f8c6301c-7bac-45c7-85c8-c2a7ce0fd8d4",
     "prev": null,
     "regions": {
      "09d554f0-be51-4dbc-ab39-3de695c8b70d": {
       "attrs": {
        "height": 0.6,
        "width": 0.8,
        "x": 0.1,
        "y": 0.1
       },
       "content": {
        "cell": "366002af-e4a0-4c57-810e-834658e41f63",
        "part": "source"
       },
       "id": "09d554f0-be51-4dbc-ab39-3de695c8b70d"
      },
      "1f78e7e9-66c9-48f6-985b-9a5add0c78f7": {
       "attrs": {
        "height": 0.2,
        "width": 0.4,
        "x": 0.1,
        "y": 0.7
       },
       "content": {
        "cell": "6617917a-ce79-45c4-ae90-bd23167a44cc",
        "part": "source"
       },
       "id": "1f78e7e9-66c9-48f6-985b-9a5add0c78f7"
      },
      "f3a603b1-cf91-4219-8d65-9ec19da52909": {
       "attrs": {
        "height": 0.2,
        "width": 0.4,
        "x": 0.5,
        "y": 0.7
       },
       "content": {
        "cell": "6643fca6-9eae-4220-84c0-c6b0e10c142f",
        "part": "source"
       },
       "id": "f3a603b1-cf91-4219-8d65-9ec19da52909"
      }
     },
     "theme": "13748944-097a-4d18-bc49-86c278ac820c"
    }
   },
   "themes": {
    "default": "13748944-097a-4d18-bc49-86c278ac820c",
    "theme": {
     "0d2d427f-f12b-4cc4-9cd2-a2ff71588de9": {
      "backgrounds": {
       "backgroundColor": {
        "background-color": "backgroundColor",
        "id": "backgroundColor"
       }
      },
      "id": "0d2d427f-f12b-4cc4-9cd2-a2ff71588de9",
      "palette": {
       "backgroundColor": {
        "id": "backgroundColor",
        "rgb": [
         17,
         17,
         17
        ]
       },
       "headingColor": {
        "id": "headingColor",
        "rgb": [
         238,
         238,
         238
        ]
       },
       "linkColor": {
        "id": "linkColor",
        "rgb": [
         231,
         173,
         82
        ]
       },
       "mainColor": {
        "id": "mainColor",
        "rgb": [
         238,
         238,
         238
        ]
       }
      },
      "rules": {
       "a": {
        "color": "linkColor"
       },
       "h1": {
        "color": "headingColor",
        "font-family": "Montserrat",
        "font-size": 7
       },
       "h2": {
        "color": "headingColor",
        "font-family": "Montserrat",
        "font-size": 5
       },
       "h3": {
        "color": "headingColor",
        "font-family": "Montserrat",
        "font-size": 3.75
       },
       "h4": {
        "color": "headingColor",
        "font-family": "Montserrat",
        "font-size": 3
       },
       "h5": {
        "color": "headingColor",
        "font-family": "Montserrat"
       },
       "h6": {
        "color": "headingColor",
        "font-family": "Montserrat"
       },
       "h7": {
        "color": "headingColor",
        "font-family": "Montserrat"
       },
       "li": {
        "color": "mainColor",
        "font-family": "Open Sans",
        "font-size": 4
       },
       "p": {
        "color": "mainColor",
        "font-family": "Open Sans",
        "font-size": 4
       }
      },
      "text-base": {
       "color": "mainColor",
       "font-family": "Open Sans",
       "font-size": 4
      }
     },
     "13748944-097a-4d18-bc49-86c278ac820c": {
      "backgrounds": {
       "backgroundColor": {
        "background-color": "backgroundColor",
        "id": "backgroundColor"
       }
      },
      "id": "13748944-097a-4d18-bc49-86c278ac820c",
      "palette": {
       "backgroundColor": {
        "id": "backgroundColor",
        "rgb": [
         247,
         251,
         252
        ]
       },
       "headingColor": {
        "id": "headingColor",
        "rgb": [
         51,
         51,
         51
        ]
       },
       "linkColor": {
        "id": "linkColor",
        "rgb": [
         59,
         117,
         158
        ]
       },
       "mainColor": {
        "id": "mainColor",
        "rgb": [
         51,
         51,
         51
        ]
       }
      },
      "rules": {
       "a": {
        "color": "linkColor"
       },
       "h1": {
        "color": "headingColor",
        "font-family": "Quicksand",
        "font-size": 7
       },
       "h2": {
        "color": "headingColor",
        "font-family": "Quicksand",
        "font-size": 5
       },
       "h3": {
        "color": "headingColor",
        "font-family": "Quicksand",
        "font-size": 3.75
       },
       "h4": {
        "color": "headingColor",
        "font-family": "Quicksand",
        "font-size": 3
       },
       "h5": {
        "color": "headingColor",
        "font-family": "Quicksand"
       },
       "h6": {
        "color": "headingColor",
        "font-family": "Quicksand"
       },
       "h7": {
        "color": "headingColor",
        "font-family": "Quicksand"
       },
       "li": {
        "color": "mainColor",
        "font-family": "Open Sans",
        "font-size": 5
       },
       "p": {
        "color": "mainColor",
        "font-family": "Open Sans",
        "font-size": 5
       }
      },
      "text-base": {
       "color": "mainColor",
       "font-family": "Open Sans",
       "font-size": 5
      }
     },
     "361f90ac-771b-42a3-b271-a4d3da5a7961": {
      "backgrounds": {
       "backgroundColor": {
        "background-color": "backgroundColor",
        "id": "backgroundColor"
       }
      },
      "id": "361f90ac-771b-42a3-b271-a4d3da5a7961",
      "palette": {
       "backgroundColor": {
        "id": "backgroundColor",
        "rgb": [
         256,
         256,
         256
        ]
       },
       "headingColor": {
        "id": "headingColor",
        "rgb": [
         34,
         34,
         34
        ]
       },
       "linkColor": {
        "id": "linkColor",
        "rgb": [
         42,
         118,
         221
        ]
       },
       "mainColor": {
        "id": "mainColor",
        "rgb": [
         34,
         34,
         34
        ]
       }
      },
      "rules": {
       "a": {
        "color": "linkColor"
       },
       "h1": {
        "color": "headingColor",
        "font-family": "Source Sans Pro",
        "font-size": 5.25
       },
       "h2": {
        "color": "headingColor",
        "font-family": "Source Sans Pro",
        "font-size": 4
       },
       "h3": {
        "color": "headingColor",
        "font-family": "Source Sans Pro",
        "font-size": 3.5
       },
       "h4": {
        "color": "headingColor",
        "font-family": "Source Sans Pro",
        "font-size": 3
       },
       "h5": {
        "color": "headingColor",
        "font-family": "Source Sans Pro"
       },
       "h6": {
        "color": "headingColor",
        "font-family": "Source Sans Pro"
       },
       "h7": {
        "color": "headingColor",
        "font-family": "Source Sans Pro"
       },
       "li": {
        "color": "mainColor",
        "font-family": "Source Sans Pro",
        "font-size": 6
       },
       "p": {
        "color": "mainColor",
        "font-family": "Source Sans Pro",
        "font-size": 6
       }
      },
      "text-base": {
       "color": "mainColor",
       "font-family": "Source Sans Pro",
       "font-size": 6
      }
     },
     "400ec215-75ee-41b2-a351-028785b26941": {
      "backgrounds": {
       "backgroundColor": {
        "background-color": "backgroundColor",
        "id": "backgroundColor"
       }
      },
      "id": "400ec215-75ee-41b2-a351-028785b26941",
      "palette": {
       "backgroundColor": {
        "id": "backgroundColor",
        "rgb": [
         34,
         34,
         34
        ]
       },
       "headingColor": {
        "id": "headingColor",
        "rgb": [
         238,
         238,
         238
        ]
       },
       "linkColor": {
        "id": "linkColor",
        "rgb": [
         170,
         34,
         51
        ]
       },
       "mainColor": {
        "id": "mainColor",
        "rgb": [
         238,
         238,
         238
        ]
       }
      },
      "rules": {
       "a": {
        "color": "linkColor"
       },
       "h1": {
        "color": "headingColor",
        "font-family": "Ubuntu",
        "font-size": 7
       },
       "h2": {
        "color": "headingColor",
        "font-family": "Ubuntu",
        "font-size": 5
       },
       "h3": {
        "color": "headingColor",
        "font-family": "Ubuntu",
        "font-size": 3.75
       },
       "h4": {
        "color": "headingColor",
        "font-family": "Ubuntu",
        "font-size": 3
       },
       "h5": {
        "color": "headingColor",
        "font-family": "Ubuntu"
       },
       "h6": {
        "color": "headingColor",
        "font-family": "Ubuntu"
       },
       "h7": {
        "color": "headingColor",
        "font-family": "Ubuntu"
       },
       "li": {
        "color": "mainColor",
        "font-family": "Ubuntu",
        "font-size": 5
       },
       "p": {
        "color": "mainColor",
        "font-family": "Ubuntu",
        "font-size": 5
       }
      },
      "text-base": {
       "color": "mainColor",
       "font-family": "Ubuntu",
       "font-size": 5
      }
     },
     "791e1c19-0a97-4f0e-ba8f-6db9193b2f34": {
      "backgrounds": {
       "dc7afa04-bf90-40b1-82a5-726e3cff5267": {
        "background-color": "31af15d2-7e15-44c5-ab5e-e04b16a89eff",
        "id": "dc7afa04-bf90-40b1-82a5-726e3cff5267"
       }
      },
      "id": "791e1c19-0a97-4f0e-ba8f-6db9193b2f34",
      "palette": {
       "19cc588f-0593-49c9-9f4b-e4d7cc113b1c": {
        "id": "19cc588f-0593-49c9-9f4b-e4d7cc113b1c",
        "rgb": [
         252,
         252,
         252
        ]
       },
       "31af15d2-7e15-44c5-ab5e-e04b16a89eff": {
        "id": "31af15d2-7e15-44c5-ab5e-e04b16a89eff",
        "rgb": [
         68,
         68,
         68
        ]
       },
       "50f92c45-a630-455b-aec3-788680ec7410": {
        "id": "50f92c45-a630-455b-aec3-788680ec7410",
        "rgb": [
         197,
         226,
         245
        ]
       },
       "c5cc3653-2ee1-402a-aba2-7caae1da4f6c": {
        "id": "c5cc3653-2ee1-402a-aba2-7caae1da4f6c",
        "rgb": [
         43,
         126,
         184
        ]
       },
       "efa7f048-9acb-414c-8b04-a26811511a21": {
        "id": "efa7f048-9acb-414c-8b04-a26811511a21",
        "rgb": [
         25.118061674008803,
         73.60176211453744,
         107.4819383259912
        ]
       }
      },
      "rules": {
       "a": {
        "color": "19cc588f-0593-49c9-9f4b-e4d7cc113b1c"
       },
       "blockquote": {
        "color": "50f92c45-a630-455b-aec3-788680ec7410",
        "font-size": 3
       },
       "code": {
        "font-family": "Anonymous Pro"
       },
       "h1": {
        "color": "19cc588f-0593-49c9-9f4b-e4d7cc113b1c",
        "font-family": "Merriweather",
        "font-size": 8
       },
       "h2": {
        "color": "19cc588f-0593-49c9-9f4b-e4d7cc113b1c",
        "font-family": "Merriweather",
        "font-size": 6
       },
       "h3": {
        "color": "50f92c45-a630-455b-aec3-788680ec7410",
        "font-family": "Lato",
        "font-size": 5.5
       },
       "h4": {
        "color": "c5cc3653-2ee1-402a-aba2-7caae1da4f6c",
        "font-family": "Lato",
        "font-size": 5
       },
       "h5": {
        "font-family": "Lato"
       },
       "h6": {
        "font-family": "Lato"
       },
       "h7": {
        "font-family": "Lato"
       },
       "li": {
        "color": "50f92c45-a630-455b-aec3-788680ec7410",
        "font-size": 3.25
       },
       "pre": {
        "font-family": "Anonymous Pro",
        "font-size": 4
       }
      },
      "text-base": {
       "color": "19cc588f-0593-49c9-9f4b-e4d7cc113b1c",
       "font-family": "Lato",
       "font-size": 4
      }
     },
     "8d349e71-1f50-4584-a50b-b167aad22dde": {
      "id": "8d349e71-1f50-4584-a50b-b167aad22dde",
      "palette": {
       "19cc588f-0593-49c9-9f4b-e4d7cc113b1c": {
        "id": "19cc588f-0593-49c9-9f4b-e4d7cc113b1c",
        "rgb": [
         252,
         252,
         252
        ]
       },
       "31af15d2-7e15-44c5-ab5e-e04b16a89eff": {
        "id": "31af15d2-7e15-44c5-ab5e-e04b16a89eff",
        "rgb": [
         68,
         68,
         68
        ]
       },
       "50f92c45-a630-455b-aec3-788680ec7410": {
        "id": "50f92c45-a630-455b-aec3-788680ec7410",
        "rgb": [
         155,
         177,
         192
        ]
       },
       "c5cc3653-2ee1-402a-aba2-7caae1da4f6c": {
        "id": "c5cc3653-2ee1-402a-aba2-7caae1da4f6c",
        "rgb": [
         43,
         126,
         184
        ]
       },
       "efa7f048-9acb-414c-8b04-a26811511a21": {
        "id": "efa7f048-9acb-414c-8b04-a26811511a21",
        "rgb": [
         25.118061674008803,
         73.60176211453744,
         107.4819383259912
        ]
       }
      },
      "rules": {
       "blockquote": {
        "color": "50f92c45-a630-455b-aec3-788680ec7410"
       },
       "code": {
        "font-family": "Anonymous Pro"
       },
       "h1": {
        "color": "c5cc3653-2ee1-402a-aba2-7caae1da4f6c",
        "font-family": "Lato",
        "font-size": 8
       },
       "h2": {
        "color": "c5cc3653-2ee1-402a-aba2-7caae1da4f6c",
        "font-family": "Lato",
        "font-size": 6
       },
       "h3": {
        "color": "50f92c45-a630-455b-aec3-788680ec7410",
        "font-family": "Lato",
        "font-size": 5.5
       },
       "h4": {
        "color": "c5cc3653-2ee1-402a-aba2-7caae1da4f6c",
        "font-family": "Lato",
        "font-size": 5
       },
       "h5": {
        "font-family": "Lato"
       },
       "h6": {
        "font-family": "Lato"
       },
       "h7": {
        "font-family": "Lato"
       },
       "pre": {
        "font-family": "Anonymous Pro",
        "font-size": 4
       }
      },
      "text-base": {
       "font-family": "Merriweather",
       "font-size": 4
      }
     },
     "955834db-3d94-41bb-97e4-139de8b23bb5": {
      "backgrounds": {
       "backgroundColor": {
        "background-color": "backgroundColor",
        "id": "backgroundColor"
       }
      },
      "id": "955834db-3d94-41bb-97e4-139de8b23bb5",
      "palette": {
       "backgroundColor": {
        "id": "backgroundColor",
        "rgb": [
         240,
         241,
         235
        ]
       },
       "headingColor": {
        "id": "headingColor",
        "rgb": [
         56,
         61,
         61
        ]
       },
       "linkColor": {
        "id": "linkColor",
        "rgb": [
         81,
         72,
         61
        ]
       },
       "mainColor": {
        "id": "mainColor",
        "rgb": [
         0,
         0,
         0
        ]
       }
      },
      "rules": {
       "a": {
        "color": "linkColor"
       },
       "h1": {
        "color": "headingColor",
        "font-family": "EB Garamond",
        "font-size": 7
       },
       "h2": {
        "color": "headingColor",
        "font-family": "EB Garamond",
        "font-size": 5
       },
       "h3": {
        "color": "headingColor",
        "font-family": "EB Garamond",
        "font-size": 3.75
       },
       "h4": {
        "color": "headingColor",
        "font-family": "EB Garamond",
        "font-size": 3
       },
       "h5": {
        "color": "headingColor",
        "font-family": "EB Garamond"
       },
       "h6": {
        "color": "headingColor",
        "font-family": "EB Garamond"
       },
       "h7": {
        "color": "headingColor",
        "font-family": "EB Garamond"
       },
       "li": {
        "color": "mainColor",
        "font-family": "EB Garamond",
        "font-size": 5
       },
       "p": {
        "color": "mainColor",
        "font-family": "EB Garamond",
        "font-size": 5
       }
      },
      "text-base": {
       "color": "mainColor",
       "font-family": "EB Garamond",
       "font-size": 5
      }
     },
     "bbb85829-e497-40ac-8b62-ac22e855532e": {
      "backgrounds": {
       "backgroundColor": {
        "background-color": "backgroundColor",
        "id": "backgroundColor"
       }
      },
      "id": "bbb85829-e497-40ac-8b62-ac22e855532e",
      "palette": {
       "backgroundColor": {
        "id": "backgroundColor",
        "rgb": [
         43,
         43,
         43
        ]
       },
       "headingColor": {
        "id": "headingColor",
        "rgb": [
         238,
         238,
         238
        ]
       },
       "linkColor": {
        "id": "linkColor",
        "rgb": [
         19,
         218,
         236
        ]
       },
       "mainColor": {
        "id": "mainColor",
        "rgb": [
         238,
         238,
         238
        ]
       }
      },
      "rules": {
       "a": {
        "color": "linkColor"
       },
       "h1": {
        "color": "headingColor",
        "font-family": "Oswald",
        "font-size": 7
       },
       "h2": {
        "color": "headingColor",
        "font-family": "Oswald",
        "font-size": 5
       },
       "h3": {
        "color": "headingColor",
        "font-family": "Oswald",
        "font-size": 3.75
       },
       "h4": {
        "color": "headingColor",
        "font-family": "Oswald",
        "font-size": 3
       },
       "h5": {
        "color": "headingColor",
        "font-family": "Oswald"
       },
       "h6": {
        "color": "headingColor",
        "font-family": "Oswald"
       },
       "h7": {
        "color": "headingColor",
        "font-family": "Oswald"
       },
       "li": {
        "color": "mainColor",
        "font-family": "Lato",
        "font-size": 5
       },
       "p": {
        "color": "mainColor",
        "font-family": "Lato",
        "font-size": 5
       }
      },
      "text-base": {
       "color": "mainColor",
       "font-family": "Lato",
       "font-size": 5
      }
     },
     "c963ff15-e3d4-49bf-a226-fe359616c7e7": {
      "backgrounds": {
       "backgroundColor": {
        "background-color": "backgroundColor",
        "id": "backgroundColor"
       }
      },
      "id": "c963ff15-e3d4-49bf-a226-fe359616c7e7",
      "palette": {
       "backgroundColor": {
        "id": "backgroundColor",
        "rgb": [
         0,
         43,
         54
        ]
       },
       "headingColor": {
        "id": "headingColor",
        "rgb": [
         238,
         232,
         213
        ]
       },
       "linkColor": {
        "id": "linkColor",
        "rgb": [
         38,
         139,
         210
        ]
       },
       "mainColor": {
        "id": "mainColor",
        "rgb": [
         147,
         161,
         161
        ]
       }
      },
      "rules": {
       "a": {
        "color": "linkColor"
       },
       "h1": {
        "color": "headingColor",
        "font-family": "Oswald",
        "font-size": 7
       },
       "h2": {
        "color": "headingColor",
        "font-family": "Oswald",
        "font-size": 5
       },
       "h3": {
        "color": "headingColor",
        "font-family": "Oswald",
        "font-size": 3.75
       },
       "h4": {
        "color": "headingColor",
        "font-family": "Oswald",
        "font-size": 3
       },
       "h5": {
        "color": "headingColor",
        "font-family": "Oswald"
       },
       "h6": {
        "color": "headingColor",
        "font-family": "Oswald"
       },
       "h7": {
        "color": "headingColor",
        "font-family": "Oswald"
       },
       "li": {
        "color": "mainColor",
        "font-family": "Lato",
        "font-size": 5
       },
       "p": {
        "color": "mainColor",
        "font-family": "Lato",
        "font-size": 5
       }
      },
      "text-base": {
       "color": "mainColor",
       "font-family": "Lato",
       "font-size": 5
      }
     },
     "ca934df0-4366-4513-a719-808034709d59": {
      "backgrounds": {
       "backgroundColor": {
        "background-color": "backgroundColor",
        "id": "backgroundColor"
       }
      },
      "id": "ca934df0-4366-4513-a719-808034709d59",
      "palette": {
       "backgroundColor": {
        "id": "backgroundColor",
        "rgb": [
         247,
         243,
         222
        ]
       },
       "headingColor": {
        "id": "headingColor",
        "rgb": [
         51,
         51,
         51
        ]
       },
       "linkColor": {
        "id": "linkColor",
        "rgb": [
         139,
         116,
         61
        ]
       },
       "mainColor": {
        "id": "mainColor",
        "rgb": [
         51,
         51,
         51
        ]
       }
      },
      "rules": {
       "a": {
        "color": "linkColor"
       },
       "h1": {
        "color": "headingColor",
        "font-family": "Oswald",
        "font-size": 7
       },
       "h2": {
        "color": "headingColor",
        "font-family": "Oswald",
        "font-size": 5
       },
       "h3": {
        "color": "headingColor",
        "font-family": "Oswald",
        "font-size": 3.75
       },
       "h4": {
        "color": "headingColor",
        "font-family": "Oswald",
        "font-size": 3
       },
       "h5": {
        "color": "headingColor",
        "font-family": "Oswald"
       },
       "h6": {
        "color": "headingColor",
        "font-family": "Oswald"
       },
       "h7": {
        "color": "headingColor",
        "font-family": "Oswald"
       },
       "li": {
        "color": "mainColor",
        "font-family": "Lato",
        "font-size": 5
       },
       "p": {
        "color": "mainColor",
        "font-family": "Lato",
        "font-size": 5
       }
      },
      "text-base": {
       "color": "mainColor",
       "font-family": "Lato",
       "font-size": 5
      }
     },
     "da0609a7-ea3f-4561-92ca-8c9b75e2a926": {
      "backgrounds": {
       "backgroundColor": {
        "background-color": "backgroundColor",
        "id": "backgroundColor"
       }
      },
      "id": "da0609a7-ea3f-4561-92ca-8c9b75e2a926",
      "palette": {
       "backgroundColor": {
        "id": "backgroundColor",
        "rgb": [
         256,
         256,
         256
        ]
       },
       "headingColor": {
        "id": "headingColor",
        "rgb": [
         0,
         0,
         0
        ]
       },
       "linkColor": {
        "id": "linkColor",
        "rgb": [
         0,
         0,
         139
        ]
       },
       "mainColor": {
        "id": "mainColor",
        "rgb": [
         0,
         0,
         0
        ]
       }
      },
      "rules": {
       "a": {
        "color": "linkColor"
       },
       "h1": {
        "color": "headingColor",
        "font-family": "News Cycle",
        "font-size": 7
       },
       "h2": {
        "color": "headingColor",
        "font-family": "News Cycle",
        "font-size": 5
       },
       "h3": {
        "color": "headingColor",
        "font-family": "News Cycle",
        "font-size": 3.75
       },
       "h4": {
        "color": "headingColor",
        "font-family": "News Cycle",
        "font-size": 3
       },
       "h5": {
        "color": "headingColor",
        "font-family": "News Cycle"
       },
       "h6": {
        "color": "headingColor",
        "font-family": "News Cycle"
       },
       "h7": {
        "color": "headingColor",
        "font-family": "News Cycle"
       },
       "li": {
        "color": "mainColor",
        "font-family": "Lato",
        "font-size": 5
       },
       "p": {
        "color": "mainColor",
        "font-family": "Lato",
        "font-size": 5
       }
      },
      "text-base": {
       "color": "mainColor",
       "font-family": "Lato",
       "font-size": 5
      }
     },
     "e5ba62fb-2d26-4b43-93e7-73272aa83f4e": {
      "backgrounds": {
       "backgroundColor": {
        "background-color": "backgroundColor",
        "id": "backgroundColor"
       }
      },
      "id": "e5ba62fb-2d26-4b43-93e7-73272aa83f4e",
      "palette": {
       "backgroundColor": {
        "id": "backgroundColor",
        "rgb": [
         34,
         34,
         34
        ]
       },
       "headingColor": {
        "id": "headingColor",
        "rgb": [
         256,
         256,
         256
        ]
       },
       "linkColor": {
        "id": "linkColor",
        "rgb": [
         66,
         175,
         250
        ]
       },
       "mainColor": {
        "id": "mainColor",
        "rgb": [
         256,
         256,
         256
        ]
       }
      },
      "rules": {
       "a": {
        "color": "linkColor"
       },
       "h1": {
        "color": "headingColor",
        "font-family": "Source Sans Pro",
        "font-size": 5.25
       },
       "h2": {
        "color": "headingColor",
        "font-family": "Source Sans Pro",
        "font-size": 4
       },
       "h3": {
        "color": "headingColor",
        "font-family": "Source Sans Pro",
        "font-size": 3.5
       },
       "h4": {
        "color": "headingColor",
        "font-family": "Source Sans Pro",
        "font-size": 3
       },
       "h5": {
        "color": "headingColor",
        "font-family": "Source Sans Pro"
       },
       "h6": {
        "color": "headingColor",
        "font-family": "Source Sans Pro"
       },
       "h7": {
        "color": "headingColor",
        "font-family": "Source Sans Pro"
       },
       "li": {
        "color": "mainColor",
        "font-family": "Source Sans Pro",
        "font-size": 6
       },
       "p": {
        "color": "mainColor",
        "font-family": "Source Sans Pro",
        "font-size": 6
       }
      },
      "text-base": {
       "color": "mainColor",
       "font-family": "Source Sans Pro",
       "font-size": 6
      }
     },
     "e6e97e19-238d-40cc-8d1a-c3554c399f7a": {
      "backgrounds": {
       "backgroundColor": {
        "background-color": "backgroundColor",
        "id": "backgroundColor"
       }
      },
      "id": "e6e97e19-238d-40cc-8d1a-c3554c399f7a",
      "palette": {
       "backgroundColor": {
        "id": "backgroundColor",
        "rgb": [
         253,
         246,
         227
        ]
       },
       "headingColor": {
        "id": "headingColor",
        "rgb": [
         88,
         110,
         117
        ]
       },
       "linkColor": {
        "id": "linkColor",
        "rgb": [
         38,
         139,
         210
        ]
       },
       "mainColor": {
        "id": "mainColor",
        "rgb": [
         101,
         123,
         131
        ]
       }
      },
      "rules": {
       "a": {
        "color": "linkColor"
       },
       "h1": {
        "color": "headingColor",
        "font-family": "Oswald",
        "font-size": 7
       },
       "h2": {
        "color": "headingColor",
        "font-family": "Oswald",
        "font-size": 5
       },
       "h3": {
        "color": "headingColor",
        "font-family": "Oswald",
        "font-size": 3.75
       },
       "h4": {
        "color": "headingColor",
        "font-family": "Oswald",
        "font-size": 3
       },
       "h5": {
        "color": "headingColor",
        "font-family": "Oswald"
       },
       "h6": {
        "color": "headingColor",
        "font-family": "Oswald"
       },
       "h7": {
        "color": "headingColor",
        "font-family": "Oswald"
       },
       "li": {
        "color": "mainColor",
        "font-family": "Lato",
        "font-size": 5
       },
       "p": {
        "color": "mainColor",
        "font-family": "Lato",
        "font-size": 5
       }
      },
      "text-base": {
       "color": "mainColor",
       "font-family": "Lato",
       "font-size": 5
      }
     }
    }
   }
  }
 },
 "nbformat": 4,
 "nbformat_minor": 2
}

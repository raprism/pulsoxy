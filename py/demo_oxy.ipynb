{
 "cells": [
  {
   "cell_type": "code",
   "execution_count": null,
   "metadata": {},
   "outputs": [],
   "source": [
    "import warnings\n",
    "warnings.filterwarnings(\"ignore\")\n",
    "import matplotlib.pyplot as plt\n",
    "%matplotlib notebook\n",
    "import asyncio\n",
    "# local\n",
    "import oxy\n",
    "import mqtt\n",
    "from mqtt import run_subscription, logger"
   ]
  },
  {
   "cell_type": "code",
   "execution_count": null,
   "metadata": {
    "collapsed": true
   },
   "outputs": [],
   "source": [
    "###### setup async process\n",
    "###### see also http://ipywidgets.readthedocs.io/en/latest/examples/Widget%20Asynchronous.html \n",
    "\n",
    "from ipykernel.eventloops import register_integration\n",
    "\n",
    "@register_integration('asyncio')\n",
    "def loop_asyncio(kernel):\n",
    "    '''Start a kernel with asyncio event loop support.'''\n",
    "    loop = asyncio.get_event_loop()\n",
    "\n",
    "    def kernel_handler():\n",
    "        loop.call_soon(kernel.do_one_iteration)\n",
    "        loop.call_later(kernel._poll_interval, kernel_handler)\n",
    "\n",
    "    loop.call_soon(kernel_handler)\n",
    "    try:\n",
    "        if not loop.is_running():\n",
    "            loop.run_forever()\n",
    "    finally:\n",
    "        loop.run_until_complete(loop.shutdown_asyncgens())\n",
    "        loop.close()"
   ]
  },
  {
   "cell_type": "code",
   "execution_count": null,
   "metadata": {
    "collapsed": true
   },
   "outputs": [],
   "source": [
    "%gui asyncio"
   ]
  },
  {
   "cell_type": "code",
   "execution_count": null,
   "metadata": {
    "collapsed": true
   },
   "outputs": [],
   "source": [
    "class FigureData():\n",
    "\n",
    "    def __init__(self, fig, data=None):\n",
    "        self.fig = fig\n",
    "        self.axs = fig.axes\n",
    "        self.oo = self.get_oo_init(data)\n",
    "        self.show()\n",
    "\n",
    "    def show(self):\n",
    "        self.oo.draw_sO2(self.axs)\n",
    "        fig.canvas.draw()\n",
    "        #plt.draw()\n",
    "        ## hack for non-notebook usage\n",
    "        #plt.pause(0.01)\n",
    "\n",
    "    def get_oo_init(self, oo_prev=None):\n",
    "        oo = oxy.Oxy()\n",
    "        if oo_prev is not None:\n",
    "            oo.data = oo_prev.data.median().to_frame().T\n",
    "        return oo"
   ]
  },
  {
   "cell_type": "code",
   "execution_count": null,
   "metadata": {},
   "outputs": [],
   "source": [
    "## general \n",
    "#debug = True\n",
    "debug = False\n",
    "\n",
    "if not debug:\n",
    "    logger.propagate = False\n",
    "\n",
    "## loop count\n",
    "#n = 10\n",
    "## ... infinite\n",
    "n = None\n",
    "\n",
    "## graphics\n",
    "#plt.show()\n",
    "axs_n = 4\n",
    "fig, axs = plt.subplots(axs_n, 1,\n",
    "                        sharex=True,\n",
    "                        #tight_layout=True,\n",
    "                        num='demo')\n",
    "fig.suptitle('From light intensities to Hb oxygen saturation.')\n",
    "\n",
    "show = FigureData(fig=fig)\n",
    "\n",
    "## definition of mqtt consumer_action\n",
    "def consumer_action(buffer,\n",
    "                    keep=show.oo, # keep will be merged with new oo data\n",
    "                    show=show):\n",
    "    # take new data\n",
    "    oo = oxy.Oxy(buffer, do_eval=False)\n",
    "    # update evaluation\n",
    "    keep.eval()\n",
    "    # update plot from keep\n",
    "    show.show()\n",
    "    # data will be joined in mqtt consumer function\n",
    "    return oo\n",
    "\n",
    "## asyncio loop\n",
    "loop = asyncio.get_event_loop()\n",
    "_ = asyncio.ensure_future(run_subscription(consumer_action=consumer_action, \n",
    "                                           produce_n=n, \n",
    "                                           consume_n=n,\n",
    "                                           consume_keep=show.oo))\n",
    "\n"
   ]
  }
 ],
 "metadata": {
  "kernelspec": {
   "display_name": "Python 3",
   "language": "python",
   "name": "python3"
  },
  "language_info": {
   "codemirror_mode": {
    "name": "ipython",
    "version": 3
   },
   "file_extension": ".py",
   "mimetype": "text/x-python",
   "name": "python",
   "nbconvert_exporter": "python",
   "pygments_lexer": "ipython3",
   "version": "3.6.0"
  }
 },
 "nbformat": 4,
 "nbformat_minor": 2
}
